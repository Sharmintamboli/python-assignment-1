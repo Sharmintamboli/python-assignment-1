{
 "cells": [
  {
   "cell_type": "code",
   "execution_count": 1,
   "id": "90f94754",
   "metadata": {},
   "outputs": [
    {
     "data": {
      "text/plain": [
       "'In the below elements which of them are values or an expression? eg:- values can be\\ninteger or string and expressions will be mathematical operators.'"
      ]
     },
     "execution_count": 1,
     "metadata": {},
     "output_type": "execute_result"
    }
   ],
   "source": [
    "\"\"\"In the below elements which of them are values or an expression? eg:- values can be\n",
    "integer or string and expressions will be mathematical operators.\"\"\"\n",
    "\n",
    "\n",
    "#Ans:\n",
    "#*, -,  +, / =expression\n",
    "\n",
    "#\"hello\", 87.7,6= value"
   ]
  },
  {
   "cell_type": "code",
   "execution_count": null,
   "id": "29e61834",
   "metadata": {},
   "outputs": [],
   "source": [
    "#question 2\n",
    "\"\"\"What is the difference between string and variable?\"\"\"\n",
    "#string is combination of wors or number which is withim the double or single code\n",
    "#variable is ssomething in which we can store any kind of data"
   ]
  },
  {
   "cell_type": "code",
   "execution_count": null,
   "id": "f11c0bc1",
   "metadata": {},
   "outputs": [],
   "source": [
    "#question 3\n",
    "\"\"\"Describe three different data types.\"\"\"\n",
    "#string is combination of wors or number which is withim the double or single code\n",
    "#float is having numeric value,integer or complexnumber e.g 1.55\n",
    "#boolean is numeric data type who give True or False value of the data"
   ]
  },
  {
   "cell_type": "code",
   "execution_count": 2,
   "id": "729238e7",
   "metadata": {},
   "outputs": [
    {
     "data": {
      "text/plain": [
       "7"
      ]
     },
     "execution_count": 2,
     "metadata": {},
     "output_type": "execute_result"
    }
   ],
   "source": [
    "#question 4\n",
    "\"\"\"What is an expression made up of? What do all expressions do?\"\"\"\n",
    "#an expression is a set of terms combined using \"=,-,/,*\".\n",
    "#it combine value and operator to give a single outcome \n",
    "e.g\n",
    "2+5\n"
   ]
  },
  {
   "cell_type": "code",
   "execution_count": 3,
   "id": "7d9a89a2",
   "metadata": {},
   "outputs": [],
   "source": [
    "#question 5\n",
    "\"\"\"This assignment statements, like spam = 10. What is the difference between an\n",
    "expression and a statement?\"\"\"\n",
    "#statement represent the action or command like print\n",
    "#expression is combination of variable,operation and value that give result like spam=10 \n",
    "spam=10"
   ]
  },
  {
   "cell_type": "code",
   "execution_count": 4,
   "id": "bed3efe2",
   "metadata": {},
   "outputs": [
    {
     "data": {
      "text/plain": [
       "10"
      ]
     },
     "execution_count": 4,
     "metadata": {},
     "output_type": "execute_result"
    }
   ],
   "source": [
    "spam"
   ]
  },
  {
   "cell_type": "code",
   "execution_count": 5,
   "id": "94d3f03a",
   "metadata": {},
   "outputs": [
    {
     "data": {
      "text/plain": [
       "23"
      ]
     },
     "execution_count": 5,
     "metadata": {},
     "output_type": "execute_result"
    }
   ],
   "source": [
    "#question 6\n",
    "\"\"\"After running the following code, what does the variable bacon contain?\"\"\"\n",
    "bacon=22\n",
    "bacon+1"
   ]
  },
  {
   "cell_type": "code",
   "execution_count": 7,
   "id": "b9d65c77",
   "metadata": {},
   "outputs": [
    {
     "data": {
      "text/plain": [
       "'spamspamspam'"
      ]
     },
     "execution_count": 7,
     "metadata": {},
     "output_type": "execute_result"
    }
   ],
   "source": [
    "#question 7\n",
    "\"\"\"What should the values of the following two terms be?\"\"\"\n",
    "\"spam\"+\"spamspam\""
   ]
  },
  {
   "cell_type": "code",
   "execution_count": 11,
   "id": "6bc155e4",
   "metadata": {},
   "outputs": [
    {
     "data": {
      "text/plain": [
       "'spamspamspam'"
      ]
     },
     "execution_count": 11,
     "metadata": {},
     "output_type": "execute_result"
    }
   ],
   "source": [
    "\"spam\"*3"
   ]
  },
  {
   "cell_type": "code",
   "execution_count": null,
   "id": "85eb63e4",
   "metadata": {},
   "outputs": [],
   "source": [
    "#question 8\n",
    "\"\"\"Why is eggs a valid variable name while 100 is invalid?\"\"\"\n",
    "#variable name cannot begin with number"
   ]
  },
  {
   "cell_type": "code",
   "execution_count": null,
   "id": "ce77005f",
   "metadata": {},
   "outputs": [],
   "source": [
    "#question 9\n",
    "\"\"\"What three functions can be used to get the integer, floating-point number, or string\n",
    "version of a value?\"\"\"\n",
    "#int(),float(),str()"
   ]
  },
  {
   "cell_type": "code",
   "execution_count": 14,
   "id": "767e079b",
   "metadata": {},
   "outputs": [
    {
     "ename": "TypeError",
     "evalue": "can only concatenate str (not \"int\") to str",
     "output_type": "error",
     "traceback": [
      "\u001b[1;31m---------------------------------------------------------------------------\u001b[0m",
      "\u001b[1;31mTypeError\u001b[0m                                 Traceback (most recent call last)",
      "\u001b[1;32m<ipython-input-14-34aa2f9011a6>\u001b[0m in \u001b[0;36m<module>\u001b[1;34m\u001b[0m\n\u001b[0;32m      1\u001b[0m \u001b[1;31m#question 10\u001b[0m\u001b[1;33m\u001b[0m\u001b[1;33m\u001b[0m\u001b[1;33m\u001b[0m\u001b[0m\n\u001b[0;32m      2\u001b[0m \u001b[1;34m\"\"\"Why does this expression cause an error? How can you fix it?\"\"\"\u001b[0m\u001b[1;33m\u001b[0m\u001b[1;33m\u001b[0m\u001b[0m\n\u001b[1;32m----> 3\u001b[1;33m \u001b[1;34m\"i have eaten\"\u001b[0m\u001b[1;33m+\u001b[0m\u001b[1;36m95\u001b[0m\u001b[1;33m+\u001b[0m\u001b[1;34m\"burittos\"\u001b[0m\u001b[1;33m\u001b[0m\u001b[1;33m\u001b[0m\u001b[0m\n\u001b[0m",
      "\u001b[1;31mTypeError\u001b[0m: can only concatenate str (not \"int\") to str"
     ]
    }
   ],
   "source": [
    "#question 10\n",
    "\"\"\"Why does this expression cause an error? How can you fix it?\"\"\"\n",
    "\"i have eaten\"+95+\"burittos\"\n",
    "#because 99 is an integer it can not concatinate with string\n"
   ]
  },
  {
   "cell_type": "code",
   "execution_count": null,
   "id": "03ea0935",
   "metadata": {},
   "outputs": [],
   "source": []
  }
 ],
 "metadata": {
  "kernelspec": {
   "display_name": "Python 3",
   "language": "python",
   "name": "python3"
  },
  "language_info": {
   "codemirror_mode": {
    "name": "ipython",
    "version": 3
   },
   "file_extension": ".py",
   "mimetype": "text/x-python",
   "name": "python",
   "nbconvert_exporter": "python",
   "pygments_lexer": "ipython3",
   "version": "3.9.1"
  }
 },
 "nbformat": 4,
 "nbformat_minor": 5
}
